{
 "cells": [
  {
   "cell_type": "code",
   "execution_count": 14,
   "id": "f377fe49",
   "metadata": {},
   "outputs": [
    {
     "name": "stdout",
     "output_type": "stream",
     "text": [
      "[Errno 2] No such file or directory: 'R100003J14.png'\n",
      "alert\n"
     ]
    }
   ],
   "source": [
    "from PIL import Image\n",
    "try:\n",
    "    im = Image.open(\"R100003J14.png\")\n",
    "    size = (150, 300)\n",
    "    if im.size[0]>150  or  im.size[1]>300:\n",
    "        print(\"insode\")\n",
    "        im.thumbnail(size)\n",
    "        im.save(im.filename)\n",
    "except Exception as e :\n",
    "    print(e)\n",
    "finally :\n",
    "    print(\"alert\")"
   ]
  },
  {
   "cell_type": "code",
   "execution_count": 1,
   "id": "46e11354",
   "metadata": {},
   "outputs": [],
   "source": [
    "from PyPDF2 import PdfReader"
   ]
  },
  {
   "cell_type": "code",
   "execution_count": 3,
   "id": "3ed2f570",
   "metadata": {},
   "outputs": [],
   "source": [
    "myfile=PdfReader(\"IN JSA24-259625.pdf\")"
   ]
  },
  {
   "cell_type": "code",
   "execution_count": 6,
   "id": "c458e491",
   "metadata": {},
   "outputs": [
    {
     "data": {
      "text/plain": [
       "{'/Author': 'Shankar',\n",
       " '/Creator': 'Microsoft® Word 2021',\n",
       " '/CreationDate': \"D:20240706101122+05'30'\",\n",
       " '/ModDate': \"D:20240706101122+05'30'\",\n",
       " '/Producer': 'Microsoft® Word 2021'}"
      ]
     },
     "execution_count": 6,
     "metadata": {},
     "output_type": "execute_result"
    }
   ],
   "source": [
    "myfile.documentInfo"
   ]
  },
  {
   "cell_type": "code",
   "execution_count": 18,
   "id": "0bfbd949",
   "metadata": {},
   "outputs": [],
   "source": [
    "totalpage = myfile.numPages"
   ]
  },
  {
   "cell_type": "code",
   "execution_count": 19,
   "id": "be33323c",
   "metadata": {},
   "outputs": [
    {
     "data": {
      "text/plain": [
       "1"
      ]
     },
     "execution_count": 19,
     "metadata": {},
     "output_type": "execute_result"
    }
   ],
   "source": [
    "totalpage"
   ]
  },
  {
   "cell_type": "code",
   "execution_count": 21,
   "id": "c3c32504",
   "metadata": {},
   "outputs": [],
   "source": [
    "pagecontent= myfile.pages[0]"
   ]
  },
  {
   "cell_type": "code",
   "execution_count": 24,
   "id": "9ac05962",
   "metadata": {},
   "outputs": [
    {
     "name": "stdout",
     "output_type": "stream",
     "text": [
      "JSA Systems  \n",
      "NO-207-208,4TH  STREET, NEAR HOTEL  \n",
      "HARIBHAVANAM  \n",
      "GANDHIPURAM,  COIMBATORE  . MOBILE  : \n",
      "9894224513  / 7540004513  / 7708921281  / \n",
      "9789894513  Coimbatore  Tamil Nadu 641012  \n",
      "India   TAX INVOICE  \n",
      "GSTIN  33AYIPS1358R1ZP  \n",
      "Invoice#  : JSA/24 -25/9625  \n",
      "Invoice  Date : 04/07/2024  \n",
      "Terms  : Due on Receipt  \n",
      "Due Date  : 04/07/2024  Place  Of Supply  : Tamil  Nadu  (33) \n",
      "Cash  Payment  : ₹0.00 \n",
      "Card  Payment  : ₹0.00 \n",
      "IMPS  : 418653030079  -20000  \n",
      "/418671533143  -13600 \n",
      "Cheque  0 \n",
      "Bill To Ship To  \n",
      "DHANAVARSHINI  DHANAVARSHINI  \n",
      "CBE Phone  \n",
      "96007 59266  softbala92@gmail.com  \n",
      "softbala92@gmail.com   \n",
      "Phone   \n",
      "96007 59266   \n",
      " \n",
      "#  \n",
      "Item & Description   \n",
      "HSN/SAC   \n",
      "Qty  \n",
      "Rate  Taxable \n",
      "Amount   \n",
      "CGST   \n",
      "SGST   \n",
      "Total  \n",
      "1 HP LAPTOP 250 G9 I3 - \n",
      "12TH|8GB|512GB|DOS|15.6\"  \n",
      " \n",
      "CND33517VH  847170  1.00 \n",
      "No 33,000.00  27,966.10  9% 9% 33,000.00  \n",
      "2 Hp Wirless  Mouse  S500 \n",
      "7CH4082KB2  847130  1.00 \n",
      "No 600.00  508.47  9% 9% 600.00  \n",
      "3 Hp Laptop  Bag (Org)  420212  1.00 \n",
      "No 0 0 9% 9% 0 \n",
      "Sub Total  ₹28,474.57  2,562.71  2,562.71  ₹33,600.00  \n",
      "Items  in Total  3.00 Payment Made   (-) 33,600.00  \n",
      "BANK  DETAILS  Balance  Due  ₹0.00 \n",
      " \n",
      "HDFC BANK LTD -A/C NO:50200045495690 -IFSC CODE:HDFC0001588 - \n",
      "BRANCH:GANDHIPURAM  \n",
      " \n",
      " \n",
      " \n",
      " \n",
      "Customer  Signature  For JSA SYSTEMS  \n",
      " \n",
      " Authorized  Signature  \n",
      " \n",
      " \n",
      "1 \n",
      "\n"
     ]
    }
   ],
   "source": [
    "for i in pagecontent.extractText().split(\"\\n\"):\n",
    "    print(i)"
   ]
  },
  {
   "cell_type": "code",
   "execution_count": 30,
   "id": "1affdbf7",
   "metadata": {},
   "outputs": [],
   "source": [
    "getmyimage=myfile.pages[0]"
   ]
  },
  {
   "cell_type": "code",
   "execution_count": 33,
   "id": "efb7f553",
   "metadata": {},
   "outputs": [],
   "source": [
    "# from PyPDF2 import PdfReader\n",
    "\n",
    "# reader = PdfReader(\"IN JSA24-259625.pdf\")\n",
    "\n",
    "# page = reader.pages[0]\n",
    "# count = 0\n",
    "\n",
    "# for image_file_object in page.images:\n",
    "#     with open(str(count) + image_file_object.name, \"wb\") as fp:\n",
    "#         fp.write(image_file_object.data)\n",
    "#         count += 1"
   ]
  },
  {
   "cell_type": "code",
   "execution_count": 1,
   "id": "00b75313",
   "metadata": {},
   "outputs": [
    {
     "name": "stdout",
     "output_type": "stream",
     "text": [
      "Scraping complete! Data saved to 'linkedin_jobs.csv'.\n"
     ]
    }
   ],
   "source": [
    "from selenium import webdriver\n",
    "from selenium.webdriver.common.by import By\n",
    "from selenium.webdriver.common.keys import Keys\n",
    "import time\n",
    "import pandas as pd\n",
    "\n",
    "# Set up the Selenium WebDriver\n",
    "driver = webdriver.Chrome()  # Ensure you have the appropriate WebDriver for your browser\n",
    "\n",
    "# Open LinkedIn Jobs Search page\n",
    "country = \"India\"  # Specify your country\n",
    "keyword = \"Python Developer\"  # Specify your job keyword\n",
    "url = f\"https://www.linkedin.com/jobs/search/?keywords={keyword}&location={country}\"\n",
    "\n",
    "driver.get(url)\n",
    "time.sleep(5)  # Allow time for page to load\n",
    "\n",
    "# Scrape job details\n",
    "jobs = []\n",
    "job_cards = driver.find_elements(By.CLASS_NAME, 'base-card')\n",
    "\n",
    "for card in job_cards:\n",
    "    try:\n",
    "        title = card.find_element(By.CLASS_NAME, 'base-card__title').text\n",
    "        company = card.find_element(By.CLASS_NAME, 'base-card__subtitle').text\n",
    "        location = card.find_element(By.CLASS_NAME, 'base-card__metadata-item').text\n",
    "        jobs.append({\"Title\": title, \"Company\": company, \"Location\": location})\n",
    "    except Exception as e:\n",
    "        print(f\"Error: {e}\")\n",
    "\n",
    "# Save to CSV\n",
    "df = pd.DataFrame(jobs)\n",
    "df.to_csv('linkedin_jobs.csv', index=False)\n",
    "\n",
    "driver.quit()\n",
    "print(\"Scraping complete! Data saved to 'linkedin_jobs.csv'.\")\n"
   ]
  },
  {
   "cell_type": "code",
   "execution_count": null,
   "id": "15476edf",
   "metadata": {},
   "outputs": [],
   "source": [
    "<?xml version=\"1.0\" encoding=\"UTF-8\"?>\n",
    "<urlset >\n",
    "  <url>\n",
    "  <loc>https://recruiter.dresume.com/</loc>\n",
    "  </url>\n",
    "  <url>\n",
    "  <loc>https://recruiter.dresume.com/recruiterBenefits</loc>\n",
    "  </url>\n",
    "  <url>\n",
    "  <loc>https://recruiter.dresume.com/referral</loc>\n",
    "  </url>\n",
    "  <url>\n",
    "    <loc>https://recruiter.dresume.com/forgotPassword</loc>\n",
    "  </url>\n",
    "  <url>\n",
    "  <loc>https://recruiter.dresume.com/privacy</loc>\n",
    "  </url>\n",
    "  <url>\n",
    "  <loc>https://recruiter.dresume.com/terms</loc>\n",
    "  </url>\n",
    "  <url>\n",
    "  <loc>https://recruiter.dresume.com/contact</loc>\n",
    "  </url>\n",
    "  <url>\n",
    "  <loc>https://recruiter.dresume.com/about</loc>\n",
    "  </url>\n",
    "  <url>\n",
    "  <loc>https://recruiter.dresume.com/knowledge</loc>\n",
    "  </url>\n",
    "  <url>\n",
    "  <loc>https://recruiter.dresume.com/apipartners</loc>\n",
    "  </url>\n",
    "  <url>\n",
    "  <loc>https://recruiter.dresume.com/effortequity</loc>\n",
    "  </url>\n",
    "  <url>\n",
    "  <loc>https://recruiter.dresume.com/recruiterFaq</loc>\n",
    "  </url>\n",
    "  <url>\n",
    "  <loc>https://recruiter.dresume.com/referralFaq</loc>\n",
    "  </url>\n",
    "  <url>\n",
    "  <loc>https://recruiter.dresume.com/referraltool</loc>\n",
    "  </url>\n",
    "  <url>\n",
    "  <loc>https://recruiter.dresume.com/referralTerms</loc>\n",
    "  </url>\n",
    "  <url>\n",
    "  <loc>https://recruiter.dresume.com/safe</loc>\n",
    "  </url>\n",
    "</urlset>"
   ]
  }
 ],
 "metadata": {
  "kernelspec": {
   "display_name": "Python 3 (ipykernel)",
   "language": "python",
   "name": "python3"
  },
  "language_info": {
   "codemirror_mode": {
    "name": "ipython",
    "version": 3
   },
   "file_extension": ".py",
   "mimetype": "text/x-python",
   "name": "python",
   "nbconvert_exporter": "python",
   "pygments_lexer": "ipython3",
   "version": "3.9.6"
  }
 },
 "nbformat": 4,
 "nbformat_minor": 5
}
